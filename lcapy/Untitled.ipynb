{
 "cells": [
  {
   "cell_type": "code",
   "execution_count": 1,
   "id": "integrated-cameroon",
   "metadata": {},
   "outputs": [
    {
     "name": "stderr",
     "output_type": "stream",
     "text": [
      "C:\\Users\\javov\\anaconda3\\envs\\lcapy\\lib\\site-packages\\sympy\\core\\operations.py:64: SymPyDeprecationWarning: \n",
      "\n",
      "Add/Mul with non-Expr args has been deprecated since SymPy 1.7. Use\n",
      "Expr args instead. See https://github.com/sympy/sympy/issues/19445 for\n",
      "more info.\n",
      "\n",
      "  SymPyDeprecationWarning(\n"
     ]
    },
    {
     "data": {
      "image/png": "[encoded data removed]",
      "text/latex": [
       "$$\\left(5 + \\frac{70}{s + 3} - \\frac{90}{s + 2}\\right) e^{- T s}$$"
      ],
      "text/plain": [
       "⎛      70      90 ⎞  -T⋅s\n",
       "⎜5 + ───── - ─────⎟⋅ℯ    \n",
       "⎝    s + 3   s + 2⎠      "
      ]
     },
     "execution_count": 1,
     "metadata": {},
     "output_type": "execute_result"
    }
   ],
   "source": [
    "from lcapy import s\n",
    "import sympy as sym\n",
    "T = sym.symbols('T')\n",
    "H = 5 * (s + 5) * (s - 4) / (s**2 + 5 * s + 6) * sym.exp(-s * T)\n",
    "H.partfrac()"
   ]
  },
  {
   "cell_type": "code",
   "execution_count": 2,
   "id": "joint-parts",
   "metadata": {},
   "outputs": [
    {
     "data": {
      "image/png": "[encoded data removed]",
      "text/latex": [
       "$$5 \\left(- 2 e^{2 T - 2 t} + 3 e^{3 T - 3 t}\\right) u\\left(- T + t\\right) - 100 \\left(e^{2 T - 2 t} - e^{3 T - 3 t}\\right) u\\left(- T + t\\right) + 5 \\left(4 e^{2 T - 2 t} - 9 e^{3 T - 3 t}\\right) u\\left(- T + t\\right) + 5 \\delta\\left(- T + t\\right)$$"
      ],
      "text/plain": [
       "  ⎛     2⋅T - 2⋅t      3⋅T - 3⋅t⎞                 ⎛ 2⋅T - 2⋅t    3⋅T - 3⋅t⎞   \n",
       "5⋅⎝- 2⋅ℯ          + 3⋅ℯ         ⎠⋅u(-T + t) - 100⋅⎝ℯ          - ℯ         ⎠⋅u(\n",
       "\n",
       "            ⎛   2⋅T - 2⋅t      3⋅T - 3⋅t⎞                        \n",
       "-T + t) + 5⋅⎝4⋅ℯ          - 9⋅ℯ         ⎠⋅u(-T + t) + 5⋅δ(-T + t)"
      ]
     },
     "execution_count": 2,
     "metadata": {},
     "output_type": "execute_result"
    }
   ],
   "source": [
    "H.inverse_laplace(causal=True)"
   ]
  },
  {
   "cell_type": "code",
   "execution_count": null,
   "id": "streaming-blood",
   "metadata": {},
   "outputs": [],
   "source": []
  }
 ],
 "metadata": {
  "kernelspec": {
   "display_name": "Python 3",
   "language": "python",
   "name": "python3"
  },
  "language_info": {
   "codemirror_mode": {
    "name": "ipython",
    "version": 3
   },
   "file_extension": ".py",
   "mimetype": "text/x-python",
   "name": "python",
   "nbconvert_exporter": "python",
   "pygments_lexer": "ipython3",
   "version": "3.8.5"
  }
 },
 "nbformat": 4,
 "nbformat_minor": 5
}
