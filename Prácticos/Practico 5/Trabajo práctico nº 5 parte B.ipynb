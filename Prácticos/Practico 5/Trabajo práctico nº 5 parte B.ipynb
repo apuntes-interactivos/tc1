{
 "cells": [
  {
   "cell_type": "markdown",
   "metadata": {},
   "source": [
    "Universidad Tecnológica Nacional. Facultad Regional Mendoza.\n",
    "Teoría  de los Circuitos 1\n",
    "\n",
    "# Potencia"
   ]
  },
  {
   "cell_type": "markdown",
   "metadata": {},
   "source": [
    "La potencia es la capacidad para efectuar un trabajo, es decir energía por unidad de tiempo. En una red eléctrica, la potencia instantánea es el producto de $i(t)$ y $v(t)$ y su unidad de medida es el **Watt**.\n",
    "\n",
    "$p(t)=i(t)\\times v(t) \\ [W]$ \n",
    "\n",
    "La potencia instantánea no es un buen indicador de la cantidad de energía que es entregada o disipada por un elemento léctrico, debido a su naturaleza cambiante en el tiempo. Es necesario contar con una cantidad que brinde información de forma más rápida con un solo valor, y es de aquí que se busca la potencia promedio que, como su nombre lo indica, es el promedio de la potencia instantánea.\n",
    "\n",
    "El valor medio de una función periódica es la integral de la función de potencia de tiempo durante un periodo completo, dividido entre el periodo, es decir:\n",
    "\n",
    "$P_{med}=\\frac{1}{T}\\int_{t_0}^{t_0+T}p(t) \\ dt$\n",
    "\n",
    "Para estudiar la potencia en cA analicemos el siguiente circuito:"
   ]
  },
  {
   "cell_type": "code",
   "execution_count": 15,
   "metadata": {
    "ExecuteTime": {
     "end_time": "2021-08-18T17:23:45.521450Z",
     "start_time": "2021-08-18T17:23:45.036960Z"
    },
    "code_folding": []
   },
   "outputs": [
    {
     "data": {
      "image/png": "[encoded data removed]"
     },
     "metadata": {
      "image/png": {
       "height": 157,
       "width": 187
      }
     },
     "output_type": "display_data"
    }
   ],
   "source": [
    "#\n",
    "import lcapy as ly\n",
    "circ= ly.Circuit()\n",
    "circ.add(\"\"\"\n",
    "V _1 0; down, l={$v(t)$}\n",
    "W1 _1 _1b; right, i={$i(t)$}\n",
    "W2 0 _0b; right\n",
    "Z _1b _0b; down\n",
    "\"\"\")\n",
    "circ.draw()"
   ]
  },
  {
   "cell_type": "markdown",
   "metadata": {},
   "source": [
    "Donde $v(t)=V_m \\cos(\\omega t)$ y $i(t)=I_m \\cos (\\omega t \\pm \\theta)$, donde $\\theta$ es el desfasaje entre la tensión y la corriente, y se sumará o restará según la carga sea inductica o capacitiva.\n",
    "\n",
    "Suponiendo una carga inductiva y trabajando con la Expresión general para la potencia obtendremos:\n",
    "\n",
    "$p(t)=\\frac{1}{2}V_mI_m\\ \\cos(\\theta)+\\frac{1}{2}V_mI_m\\ \\cos(2\\omega t + \\theta)$\n",
    "\n",
    "Donde el primer término del lado derecho de la ecuación es la potencia media o activa $P$ y se exresa en Watts $[W]$\n"
   ]
  },
  {
   "cell_type": "markdown",
   "metadata": {},
   "source": [
    "**ACLARACIÓN**: en este práctico, los valores de tensión y corriente se expresarán en valores eficaces, a no se que se explicite otra cosa."
   ]
  },
  {
   "cell_type": "markdown",
   "metadata": {},
   "source": [
    "**Ejercicio 1:** en el siguiente circuito se indican las potencias consumidas por cada resistencia, determinar:\n",
    "\n",
    "a. La disipación de potencia total   \n",
    "b. La potencia reactiva y aparente total   \n",
    "c. La corriente de la fuente $I_g$   \n",
    "d. El valor de cada resistencia   \n",
    "e. Determine las corrientes $I_1$ e $I_2$   "
   ]
  },
  {
   "cell_type": "code",
   "execution_count": 65,
   "metadata": {
    "ExecuteTime": {
     "end_time": "2021-08-18T18:07:50.087042Z",
     "start_time": "2021-08-18T18:07:49.597574Z"
    }
   },
   "outputs": [
    {
     "data": {
      "image/png": "[encoded data removed]"
     },
     "metadata": {
      "image/png": {
       "height": 136,
       "width": 456
      }
     },
     "output_type": "display_data"
    }
   ],
   "source": [
    "#\n",
    "import lcapy as ly\n",
    "ce1= ly.Circuit()\n",
    "ce1.add(\"\"\"\n",
    "V _1 0 ; down, v={$240V$}, l={}, i={$I_g$}\n",
    "R1 _1 _1b; right, size=1.5, l=$60W$\n",
    "W2 0 _0b; right\n",
    "R2 _1b _0b; down, l={$45W$}, i={I_2}\n",
    "W3 _0b _0c; right\n",
    "W4 _1b _1c; right\n",
    "R3 _1c _0c; down,l={$25W$},i={I_3}\n",
    "\"\"\")\n",
    "\n",
    "\n",
    "ce1.draw()\n"
   ]
  },
  {
   "cell_type": "markdown",
   "metadata": {},
   "source": [
    "**Rtas**: a. $P_T=130$ **W,** b. $Q_T=0$ **VAR**, $S_T=130$ **VA**, c. $I_g=0.542$ **A**, d. $R_1=204.5\\Omega$, $R_2=371.12\\Omega$, $R_3=668.9\\Omega$, e. $I_2=0.384A$, $I_3=0.193A$\n",
    "    "
   ]
  },
  {
   "cell_type": "markdown",
   "metadata": {},
   "source": [
    "**Ejercicio 2**: Para el sistema de la figura: \n",
    "\n",
    "a. Determinar la potencia activa total, la potencia reactiva total, la potencia aparente total y el factor de potencia   \n",
    "b. Trace el triángulo de potencias   \n",
    "c. Determine la corriente $I_f$\n",
    "\n",
    "\n",
    "![E2.png](E2.png)"
   ]
  },
  {
   "cell_type": "markdown",
   "metadata": {},
   "source": [
    "**Rtas**: a. $P_T=400$ **W**, $Q_T=-400$ **VAR** , $S_T=565.69$**VA** $F_p=0.707$ (en adelanto) c. $I_f=5.66A /135^irc$"
   ]
  },
  {
   "cell_type": "code",
   "execution_count": null,
   "metadata": {},
   "outputs": [],
   "source": []
  }
 ],
 "metadata": {
  "hide_input": false,
  "kernelspec": {
   "display_name": "Python 3.8.2 64-bit ('lcapyenv': conda)",
   "language": "python",
   "name": "python38264bitlcapyenvcondad26ad89c9a0542d9b9ce2eec1b4cadb7"
  },
  "language_info": {
   "codemirror_mode": {
    "name": "ipython",
    "version": 3
   },
   "file_extension": ".py",
   "mimetype": "text/x-python",
   "name": "python",
   "nbconvert_exporter": "python",
   "pygments_lexer": "ipython3",
   "version": "3.8.2"
  },
  "varInspector": {
   "cols": {
    "lenName": 16,
    "lenType": 16,
    "lenVar": 40
   },
   "kernels_config": {
    "python": {
     "delete_cmd_postfix": "",
     "delete_cmd_prefix": "del ",
     "library": "var_list.py",
     "varRefreshCmd": "print(var_dic_list())"
    },
    "r": {
     "delete_cmd_postfix": ") ",
     "delete_cmd_prefix": "rm(",
     "library": "var_list.r",
     "varRefreshCmd": "cat(var_dic_list()) "
    }
   },
   "types_to_exclude": [
    "module",
    "function",
    "builtin_function_or_method",
    "instance",
    "_Feature"
   ],
   "window_display": false
  }
 },
 "nbformat": 4,
 "nbformat_minor": 4
}
