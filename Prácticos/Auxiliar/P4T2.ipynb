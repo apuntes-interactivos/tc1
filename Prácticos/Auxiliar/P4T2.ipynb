{
 "cells": [
  {
   "cell_type": "markdown",
   "metadata": {},
   "source": [
    "1)\tPara la red de la figura\n",
    "    ![](p2t2e1.png)"
   ]
  },
  {
   "cell_type": "markdown",
   "metadata": {},
   "source": [
    "a)\tDetermine la potencia promedio suministrada a cada elemento.\n",
    "\n",
    "Para poder calcular la potencia promedio en cada elemento debemos obtener la tensión o la corriente en cada uno de ellos. Sabiendo de antemano que en el inductor y en el capacitor la potencia promedio es $0$ (potencia activa) solo debemos calcular la potencia en el resistor.\n",
    "\n",
    "Calculemos primero las reactancias:\n",
    "\n",
    "- $X_L=\\omega L = 2\\pi60Hz\\times0,1Hy=37,7 \\Omega$  \n",
    "- $Z_L=j37,7 \\Omega$  \n",
    "- $X_C=\\frac{1}{2\\pi60Hz\\times 100\\mu F}=26.53\\Omega$\n",
    "- $Z_C=-j26.53\\Omega$\n",
    "\n",
    "Ahora calculemos el paralelo: \n",
    "\n",
    "$Z_{p}=\\frac{R\\times (-jX_C)}{R-jX_C}=(13.16−14.89𝑗)\\Omega$\n",
    "\n",
    "Ahora podemos calcular la tensión en la resistencia calculando la tensión en $Z_p$:\n",
    "\n",
    "$V_P=V_R=\\frac{50/0^\\circ \\times Z_p}{Z_p+Z_L}=(0,74-3,84j)V$\n",
    "\n",
    "Y el módulo de la tensión es:\n",
    "$|V_R|=3,91V$\n",
    "\n",
    "La potencia media desarrollada en la resistencia es:\n",
    "\n",
    "$P_R=\\frac{|V_R|^2}{R}=\\frac{(3,91V)^2}{30\\Omega}=5,09W$\n"
   ]
  },
  {
   "cell_type": "code",
   "execution_count": 6,
   "metadata": {},
   "outputs": [
    {
     "data": {
      "text/latex": [
       "$\\displaystyle X_C=37.70\\Omega$"
      ],
      "text/plain": [
       "<IPython.core.display.Math object>"
      ]
     },
     "metadata": {},
     "output_type": "display_data"
    },
    {
     "data": {
      "text/latex": [
       "$\\displaystyle X_L=26.53\\Omega$"
      ],
      "text/plain": [
       "<IPython.core.display.Math object>"
      ]
     },
     "metadata": {},
     "output_type": "display_data"
    },
    {
     "data": {
      "text/latex": [
       "$\\displaystyle Z_p=(13.16-14.89j)\\Omega$"
      ],
      "text/plain": [
       "<IPython.core.display.Math object>"
      ]
     },
     "metadata": {},
     "output_type": "display_data"
    },
    {
     "data": {
      "text/latex": [
       "$\\displaystyle V_R=(-11.99-35.77j)V$"
      ],
      "text/plain": [
       "<IPython.core.display.Math object>"
      ]
     },
     "metadata": {},
     "output_type": "display_data"
    },
    {
     "data": {
      "text/latex": [
       "$\\displaystyle |V_R|=37.73V$"
      ],
      "text/plain": [
       "<IPython.core.display.Math object>"
      ]
     },
     "metadata": {},
     "output_type": "display_data"
    },
    {
     "data": {
      "text/latex": [
       "$\\displaystyle P_R=47.44W$"
      ],
      "text/plain": [
       "<IPython.core.display.Math object>"
      ]
     },
     "metadata": {},
     "output_type": "display_data"
    }
   ],
   "source": [
    "from IPython.display import Math\n",
    "f=60\n",
    "pi=3.14159\n",
    "L=0.1\n",
    "C=100e-6\n",
    "R=30\n",
    "E=50\n",
    "XL=2*pi*f*L\n",
    "display( Math(f'X_C={XL:.2f}\\Omega'))\n",
    "XC=1/(2*pi*f*C)\n",
    "display(Math(f'X_L={XC:.2f}\\Omega'))\n",
    "\n",
    "Zp=R*(-1j)*XC/(R-1j*XC)\n",
    "display(Math(f'Z_p=({Zp:.2f})\\Omega'))\n",
    "ZT=Zp+1j*XL\n",
    "\n",
    "Vr=E*Zp/(ZT)\n",
    "display(Math(f'V_R=({Vr:.2f})V'))\n",
    "display(Math(f'|V_R|={abs(Vr):.2f}V'))\n",
    "PR=abs(Vr)**2/R\n",
    "display(Math(f'P_R={PR:.2f}W'))"
   ]
  },
  {
   "cell_type": "markdown",
   "metadata": {},
   "source": [
    "b)\tDetermine  la potencia activa total, la potencia  reactiva total  y la potencia  aparente total  entregadas al sistema.\n",
    "\n",
    "La potencia activa total es $P_t=5,09W$ ya que solo existe una resistencia en el circuito y desarrolla esa potencia.\n",
    "\n",
    "Para calcular la potencia reactiva total debemos calcular la potencia reactiva entrenida en $C$ y en $L$.\n",
    "\n",
    "La potencia reactiva en C la calculamos como:\n",
    "\n",
    "$Q_C=\\frac{|V_C|^2}{X_C}=\\frac{|V_p|^2}{X_C}0.58 \\ VAR$\n",
    "\n",
    "Para calcular la potencia reactiva en el inductor calculamos la corriente:\n",
    "\n",
    "$I_f=\\frac{50/0^\\circ}{Z_L+Z_p}=(0,1-1,31)A$\n",
    "\n",
    "La potencia reactiva en el inductor será:\n",
    "\n",
    "$Q_L=|I_f|^2\\times X_L=64,76\\ VAR$\n",
    "\n",
    "Por lo tanto la $Q_{total}$ será:\n",
    "\n",
    "$Q_{total}=Q_L-Q_C=64,18 \\ VAR$"
   ]
  },
  {
   "cell_type": "code",
   "execution_count": 5,
   "metadata": {},
   "outputs": [
    {
     "data": {
      "text/latex": [
       "$\\displaystyle Q_C=0.60VAR$"
      ],
      "text/plain": [
       "<IPython.core.display.Math object>"
      ]
     },
     "metadata": {},
     "output_type": "display_data"
    },
    {
     "data": {
      "text/latex": [
       "$\\displaystyle I_f=(0.11-1.33j)A$"
      ],
      "text/plain": [
       "<IPython.core.display.Math object>"
      ]
     },
     "metadata": {},
     "output_type": "display_data"
    },
    {
     "data": {
      "text/latex": [
       "$\\displaystyle Q_L=67.09\\ VAR$"
      ],
      "text/plain": [
       "<IPython.core.display.Math object>"
      ]
     },
     "metadata": {},
     "output_type": "display_data"
    },
    {
     "data": {
      "text/latex": [
       "$\\displaystyle Q_t=66.49\\ VAR$"
      ],
      "text/plain": [
       "<IPython.core.display.Math object>"
      ]
     },
     "metadata": {},
     "output_type": "display_data"
    },
    {
     "data": {
      "text/latex": [
       "$\\displaystyle 5.27+66.49j$"
      ],
      "text/plain": [
       "<IPython.core.display.Math object>"
      ]
     },
     "metadata": {},
     "output_type": "display_data"
    },
    {
     "data": {
      "text/plain": [
       "1.3339984434052843"
      ]
     },
     "execution_count": 5,
     "metadata": {},
     "output_type": "execute_result"
    }
   ],
   "source": [
    "QC=(abs(Vr)**2)/(XC)\n",
    "display(Math(f'Q_C={QC:.2f}VAR'))\n",
    "i_f=E/(ZT)\n",
    "display(Math(f'I_f=({i_f:.2f})A'))\n",
    "QL=(abs(i_f))**2 * XL\n",
    "display(Math(f'Q_L={QL:.2f}\\ VAR'))\n",
    "QT=QL-QC\n",
    "display(Math(f'Q_t={QT:.2f}\\ VAR'))\n",
    "\n",
    "S=abs(i_f)**2 * (Zp+1j*XL)\n",
    "display(Math(f'{S:.2f}'))\n",
    "\n",
    "abs(i_f)"
   ]
  },
  {
   "cell_type": "markdown",
   "metadata": {},
   "source": [
    "c)\tDetermine el Factor de Potencia."
   ]
  },
  {
   "cell_type": "code",
   "execution_count": 3,
   "metadata": {},
   "outputs": [
    {
     "data": {
      "text/plain": [
       "(0.07764532943972438-0j)"
      ]
     },
     "execution_count": 3,
     "metadata": {},
     "output_type": "execute_result"
    }
   ],
   "source": [
    "import cmath as cm\n",
    "\n",
    "fi=cm.phase(S)\n",
    "cm.cos(fi)"
   ]
  },
  {
   "cell_type": "code",
   "execution_count": 4,
   "metadata": {},
   "outputs": [
    {
     "data": {
      "text/latex": [
       "$\\displaystyle 5.09+0.58j$"
      ],
      "text/plain": [
       "<IPython.core.display.Math object>"
      ]
     },
     "metadata": {},
     "output_type": "display_data"
    }
   ],
   "source": [
    "S2=abs(i_f)**2 * (Zp)\n",
    "display(Math(f'{S2:.2f}'))"
   ]
  },
  {
   "cell_type": "markdown",
   "metadata": {},
   "source": [
    "2)\tDadas 3 cargas que consumen 4 kW (resistiva), 9 kVAR (inductiva), y  4 kVAR (capacitiva) estando conectadas en paralelo a un suministro de 110 V a 50 Hz.\n",
    "\n",
    "a)\tDetermine el Factor de Potencia de las cargas combinadas\n",
    "\n"
   ]
  },
  {
   "cell_type": "code",
   "execution_count": 11,
   "metadata": {},
   "outputs": [
    {
     "data": {
      "text/plain": [
       "(0.6246950475544243-0j)"
      ]
     },
     "execution_count": 11,
     "metadata": {},
     "output_type": "execute_result"
    }
   ],
   "source": [
    "P=4000\n",
    "Q=5000\n",
    "V=220\n",
    "f=50\n",
    "cm.cos(cm.atan(Q/P))"
   ]
  },
  {
   "cell_type": "code",
   "execution_count": 28,
   "metadata": {},
   "outputs": [
    {
     "name": "stdout",
     "output_type": "stream",
     "text": [
      "abs(Iac)= 6.00,phase(Iac)= 180.00\n",
      "abs(Icb)= 6.00,phase(Icb)= -60.00\n",
      "abs(Iba)= 6.00,phase(Iba)= 60.00\n",
      "-6.00+0.00j,3.000-5.196j,3.00+5.20j\n",
      "abs(Ia)= 10.39,phase(Ia)= -150.00\n",
      "abs(Ib)= 10.39,phase(Ib)= 90.00\n",
      "abs(Ic)= 10.39,phase(Ic)= -30.00\n"
     ]
    }
   ],
   "source": [
    "import cmath as  cm\n",
    "\n",
    "Iac=cm.rect(6,180*cm.pi/180)\n",
    "Icb=cm.rect(6,300*cm.pi/180)\n",
    "Iba=cm.rect(6,60*cm.pi/180)\n",
    "print(f'abs(Iac)= {abs(Iac):.2f},phase(Iac)= {cm.phase(Iac)*180/cm.pi:.2f}')\n",
    "print(f'abs(Icb)= {abs(Icb):.2f},phase(Icb)= {cm.phase(Icb)*180/cm.pi:.2f}')\n",
    "print(f'abs(Iba)= {abs(Iba):.2f},phase(Iba)= {cm.phase(Iba)*180/cm.pi:.2f}')\n",
    "print(f'{Iac:.2f},{Icb:.3f},{Iba:.2f}')\n",
    "IA=Iac-Iba\n",
    "IB=Iba-Icb\n",
    "IC=Icb-Iac\n",
    "print(f'abs(Ia)= {abs(IA):.2f},phase(Ia)= {cm.phase(IA)*180/cm.pi:.2f}')\n",
    "print(f'abs(Ib)= {abs(IB):.2f},phase(Ib)= {cm.phase(IB)*180/cm.pi:.2f}')\n",
    "print(f'abs(Ic)= {abs(IC):.2f},phase(Ic)= {cm.phase(IC)*180/cm.pi:.2f}')\n",
    "\n"
   ]
  },
  {
   "cell_type": "code",
   "execution_count": null,
   "metadata": {},
   "outputs": [],
   "source": []
  }
 ],
 "metadata": {
  "kernelspec": {
   "display_name": "Python 3",
   "language": "python",
   "name": "python3"
  },
  "language_info": {
   "codemirror_mode": {
    "name": "ipython",
    "version": 3
   },
   "file_extension": ".py",
   "mimetype": "text/x-python",
   "name": "python",
   "nbconvert_exporter": "python",
   "pygments_lexer": "ipython3",
   "version": "3.7.7"
  }
 },
 "nbformat": 4,
 "nbformat_minor": 4
}
