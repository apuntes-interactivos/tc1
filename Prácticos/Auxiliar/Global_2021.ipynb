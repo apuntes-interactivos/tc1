{
  "nbformat": 4,
  "nbformat_minor": 0,
  "metadata": {
    "colab": {
      "name": "Global 2021.ipynb",
      "provenance": [],
      "collapsed_sections": []
    },
    "kernelspec": {
      "name": "python3",
      "display_name": "Python 3"
    },
    "language_info": {
      "name": "python"
    }
  },
  "cells": [
    {
      "cell_type": "markdown",
      "metadata": {
        "id": "DmBRzMXgZ6Bb"
      },
      "source": [
        "# Examen global"
      ]
    },
    {
      "cell_type": "code",
      "metadata": {
        "id": "6v8Ba9_MegqY"
      },
      "source": [
        "import cmath as cm\n",
        "import numpy as np\n",
        "import scipy.linalg as la"
      ],
      "execution_count": null,
      "outputs": []
    },
    {
      "cell_type": "markdown",
      "metadata": {
        "id": "CO68ks7HaU9f"
      },
      "source": [
        "## Ejercicio 1"
      ]
    },
    {
      "cell_type": "markdown",
      "metadata": {
        "id": "HKE1LP4pZ-S9"
      },
      "source": [
        "Cálculo de las tensiones de línea:\n",
        "\n",
        "El generador está conectado en estrella por lo que el módulo de la tensión de línea es $\\sqrt{3}$ veces mayor que el módulo de la tensión de fase (en el generador). Existirá también en la tensión de línea un desfasaje de $30^{\\circ}$ grados respecto a la tensión de fase.\n",
        "\n",
        "Esto surge de plantear lo siguiente:\n",
        "\n",
        "$V_{AB}=V_{AN}-V_{BN}$\n",
        "\n",
        "$V_{BC}=V_{BN}-V_{CN}$\n",
        "\n",
        "$V_{CA}=V_{CN}-V_{AN}$"
      ]
    },
    {
      "cell_type": "code",
      "metadata": {
        "colab": {
          "base_uri": "https://localhost:8080/"
        },
        "id": "InTpvTOKV5t7",
        "outputId": "427b6ff8-883e-4edf-9d1f-bf77e59786b0"
      },
      "source": [
        "Va=220\n",
        "Vb=cm.rect(220,-120*np.pi/180)\n",
        "Vc=cm.rect(220,120*np.pi/180)\n",
        "\n",
        "Vab=Va-Vb\n",
        "Vbc=Vb-Vc\n",
        "Vca=Vc-Va\n",
        "\n",
        "print(f\"\"\"\n",
        "Vab={abs(Vab):.2f} /{cm.phase(Vab)*180/np.pi:.2f}º V,\n",
        "Vab={abs(Vbc):.2f} /{cm.phase(Vbc)*180/np.pi:.2f}º V,\n",
        "Vab={abs(Vca):.2f} /{cm.phase(Vca)*180/np.pi:.2f}º V\n",
        "\"\"\")"
      ],
      "execution_count": null,
      "outputs": [
        {
          "output_type": "stream",
          "name": "stdout",
          "text": [
            "\n",
            "Vab=381.05 /30.00º V,\n",
            "Vab=381.05 /-90.00º V,\n",
            "Vab=381.05 /150.00º V\n",
            "\n"
          ]
        }
      ]
    },
    {
      "cell_type": "markdown",
      "metadata": {
        "id": "ZMU4u8AFaDDL"
      },
      "source": [
        "Corrientes de fase en la carga:\n",
        "\n",
        "La carga está conectada en triángulo, por lo que la tensión de línea será igual a la tensión de fase en la carga.\n",
        "\n",
        "$I_{ab}=V_{ab}/Z_c$\n",
        "\n",
        "$I_{bc}=V_{bc}/Z_c$\n",
        "\n",
        "\n",
        "$I_{ca}=V_{ca}/Z_c$\n"
      ]
    },
    {
      "cell_type": "code",
      "metadata": {
        "colab": {
          "base_uri": "https://localhost:8080/"
        },
        "id": "zagkSTdOWnne",
        "outputId": "f557e76c-2a64-4e2a-8382-7466f7097695"
      },
      "source": [
        "Z=cm.rect(38 , 25*np.pi/180)\n",
        "Iab=Vab/Z\n",
        "Ibc=Vbc/Z \n",
        "Ica=Vca/Z \n",
        "\n",
        "print(f\"\"\"\n",
        "Iab={abs(Iab):.2f} /{cm.phase(Iab)*180/np.pi:.2f}º A,\n",
        "Ibc={abs(Ibc):.2f} /{cm.phase(Ibc)*180/np.pi:.2f}º A,\n",
        "Ica={abs(Ica):.2f} /{cm.phase(Ica)*180/np.pi:.2f}º A\n",
        "\"\"\")"
      ],
      "execution_count": null,
      "outputs": [
        {
          "output_type": "stream",
          "name": "stdout",
          "text": [
            "\n",
            "Iab=10.03 /5.00º A,\n",
            "Ibc=10.03 /-115.00º A,\n",
            "Ica=10.03 /125.00º A\n",
            "\n"
          ]
        }
      ]
    },
    {
      "cell_type": "markdown",
      "metadata": {
        "id": "jI2fAfzbaGZz"
      },
      "source": [
        "Corrientes de línea:\n",
        "\n",
        "Para el cálculo de las corrientes de línea planteamos la ley de las corrientes de Kirchhoff en cada nodo a, b y c.\n",
        "\n",
        "$I_{A}=I_{ab}-I_{ca}$\n",
        "\n",
        "$I_{B}=I_{bc}-I_{ab}$\n",
        "\n",
        "$I_{C}=I_{ca}-I_{bc}$"
      ]
    },
    {
      "cell_type": "code",
      "metadata": {
        "colab": {
          "base_uri": "https://localhost:8080/"
        },
        "id": "nhH48Yu8YI80",
        "outputId": "97c94689-655d-4df1-b85a-768b695e57b7"
      },
      "source": [
        "Ia=Iab-Ica\n",
        "Ib=Ibc-Iab\n",
        "Ic=Ica-Ibc\n",
        "\n",
        "print(f\"\"\"\n",
        "IA={abs(Ia):.2f} /{cm.phase(Ia)*180/np.pi:.2f}º A,\n",
        "IB={abs(Ib):.2f} /{cm.phase(Ib)*180/np.pi:.2f}º A,\n",
        "IC={abs(Ic):.2f} /{cm.phase(Ic)*180/np.pi:.2f}º A\n",
        "\"\"\")"
      ],
      "execution_count": null,
      "outputs": [
        {
          "output_type": "stream",
          "name": "stdout",
          "text": [
            "\n",
            "IA=17.37 /-25.00º A,\n",
            "IB=17.37 /-145.00º A,\n",
            "IC=17.37 /95.00º A\n",
            "\n"
          ]
        }
      ]
    },
    {
      "cell_type": "markdown",
      "metadata": {
        "id": "2LO8YRquaK0y"
      },
      "source": [
        "Potencias P y Q: \n",
        "\n",
        "La potencia activa total es la suma de la potencia activa en cada fase, igual lógica aplica para calcular la potencia reactiva. Al ser un sistema equilibrado podemos calcular la potencia total como tres veces la potencia en una fase.\n",
        "\n",
        "Podemos calcular entonces: \n",
        "\n",
        "$P_T=3 V_f I_f \\cos{\\phi}$\n",
        "\n",
        "$Q_T=3 V_f I_f \\sin{\\phi}$\n",
        "\n",
        "Siendo $\\phi$ el ángulo de desfasaje entre la tensión y la corriente que está dado por el argumento de la carga $\\phi=arg\\{Z\\}$."
      ]
    },
    {
      "cell_type": "code",
      "metadata": {
        "colab": {
          "base_uri": "https://localhost:8080/"
        },
        "id": "A3XEQNp1ZFOC",
        "outputId": "c6b8a86f-b337-4df6-9d4c-409f38bfd85c"
      },
      "source": [
        "P=3*abs(Vab)*abs(Iab)*np.cos(cm.phase(Z))\n",
        "Q=3*abs(Vab)*abs(Iab)*np.sin(cm.phase(Z))\n",
        "\n",
        "print(f\"\"\"\n",
        "P={P:.2f} W,\n",
        "Q={Q:.2f} VAR\n",
        "\"\"\")"
      ],
      "execution_count": null,
      "outputs": [
        {
          "output_type": "stream",
          "name": "stdout",
          "text": [
            "\n",
            "P=10389.15 W,\n",
            "Q=4844.54 VAR\n",
            "\n"
          ]
        }
      ]
    },
    {
      "cell_type": "markdown",
      "metadata": {
        "id": "WwJdZS5LaRrP"
      },
      "source": [
        "## Ejercicio 2\n",
        "\n",
        "Datos:"
      ]
    },
    {
      "cell_type": "code",
      "metadata": {
        "id": "fgHp1tG9Zlha"
      },
      "source": [
        "omega=200e3\n",
        "R1=2\n",
        "L1=10e-6\n",
        "C1=5e-6\n",
        "L2=20e-6\n",
        "L3=20e-6\n",
        "E=10\n",
        "k=1"
      ],
      "execution_count": null,
      "outputs": []
    },
    {
      "cell_type": "markdown",
      "metadata": {
        "id": "mGrfOgXcKHmY"
      },
      "source": [
        "Calculamos primero las reactancias:"
      ]
    },
    {
      "cell_type": "code",
      "metadata": {
        "id": "Qlau7NOoa92L"
      },
      "source": [
        "Xl1=omega*L1 \n",
        "Xc1=1/(omega*C1)\n",
        "Xl2=omega*L2\n",
        "Xl3=omega*L3\n",
        "Xm=k*(L1*L2)**0.5 * omega"
      ],
      "execution_count": null,
      "outputs": []
    },
    {
      "cell_type": "markdown",
      "metadata": {
        "id": "5RMEY3tNedRc"
      },
      "source": [
        "Calcularemos ahora la Impedancia de Thevenin:  \n",
        "\n",
        "Para esto debemos enmudecer los generadores independientes y calcular la impedancia equivalente en el par de terminales a-b. Como existe acoplamiento inductivo podemos calcular la impedancia colocando un generador de tensión $V_g$ en los terminales a-b y calcular la corriente $I_g$ que se produce en este par de terminales. De esta manera podremos calcular la impedancia $Z_{th}=V_g / I_g$"
      ]
    },
    {
      "cell_type": "markdown",
      "metadata": {
        "id": "lmgFQRD8fwkd"
      },
      "source": [
        "Utilizo el método corrientes de mallas para resolver el circuito, y observando la convención de puntos en el acoplamiento vemos que los terminos a agregar  por el acoplamiento son negativos:\n",
        "\n",
        "$ 0=I1(R1+jXl1-jXc1)-I2(-jXc1)-I2(jXm)$\n",
        "\n",
        "$-Vg=-I1(-jXc1)+I2(-jXc1+jXl2+jXl3)-I1 ( jXm)$\n",
        "\n",
        "Reordenando: \n",
        "\n",
        "$ 0=I1(R1+jXl1-jXc1)+I2(jXc1-jXm)$\n",
        "\n",
        "$-Vg=I1(jXc1-jXm)+I2(-jXc1+jXl2+jXl3)$"
      ]
    },
    {
      "cell_type": "code",
      "metadata": {
        "colab": {
          "base_uri": "https://localhost:8080/"
        },
        "id": "0Whj228FgJFA",
        "outputId": "bf2be023-71bd-4a94-8ea4-606d6e4f683a"
      },
      "source": [
        "A=np.array([ [R1+1j*Xl1-1j*Xc1 , 1j*Xc1-1j*Xm], [1j*Xc1-1j*Xm , (-1j*Xc1+1j*Xl2+1j*Xl3) ]])\n",
        "B=np.array([0 , -1])\n",
        "\n",
        "Ix = np.linalg.inv(A).dot(B)\n",
        "\n",
        "Zth=1/(-Ix[1])\n",
        "\n",
        "print(f\"\"\"\n",
        "Zth=({Zth:.2f}) Ohm = {abs(Zth):.2f} /{cm.phase(Zth)*180/np.pi:.2f}º Ohm\n",
        "\"\"\")"
      ],
      "execution_count": null,
      "outputs": [
        {
          "output_type": "stream",
          "name": "stdout",
          "text": [
            "\n",
            "Zth=(1.34+6.33j) Ohm = 6.47 /78.07º Ohm\n",
            "\n"
          ]
        }
      ]
    },
    {
      "cell_type": "markdown",
      "metadata": {
        "id": "jashCtaFeWhH"
      },
      "source": [
        "Tensión de Thevenin:  \n",
        "\n",
        "Se calcula la tensión entre los terminales a-b a circuito abierto. Por lo tanto tenemos solo una corriente para calcular. La corriente que circula en $L_1$ produce una fem inducida en la inductancia $L_2$ que deberemos tener en cuenta para calcular la $V_{th}$\n",
        "\n",
        "$I=\\frac{V \\ (-jX_{C1})}{R1+jX_{L1}-jX_{C1}}$\n",
        "\n",
        "La tensión en los terminales a-b será: \n",
        "\n",
        "$V_{ab}=I \\ (-jX_{C1})+I \\ jX_M$ \n",
        "\n",
        "Donde el segundo término corresponde a la tensión inducida en $L_2$ debido a la corriente que circula en $L_1$\n",
        "\n",
        "Si quisiéramos reselverlo utilizando el método de corrientes de mallas, deberíamos plantear:\n",
        "\n",
        "$ 10 V=I1(R1+jXl1-jXc1)-I2(-jXc1)-I2(jXm)$\n",
        "\n",
        "$-V{ab}=-I1(-jXc1)+I2(-jXc1+jXl2+jXl3)-I1 ( jXm)$\n",
        "\n",
        "Observar en la segunda ecuación que no debemos igualarla a $0$ ya que eso equivale a cortocircuitar los terminales a-b.\n",
        "\n",
        "Luego, al ser 0 la corriente $I_2$ por estar a circuito abierto, el sistema queda:\n",
        "\n",
        "$ 10 V=I1(R1+jXl1-jXc1)$\n",
        "\n",
        "$V{ab}=I1(-jXc1)+I1 ( jXm)$\n",
        "\n",
        "Las cuales son exactamente las mismas ecuaciones que habíamos resuelto antes. De la primer ecuación obtenemos $I$ y de la segunda obtenemos $V_{th}$."
      ]
    },
    {
      "cell_type": "code",
      "metadata": {
        "colab": {
          "base_uri": "https://localhost:8080/"
        },
        "id": "RLcjNAoybfh7",
        "outputId": "d79d6462-ea0e-466e-8569-07866744a39a"
      },
      "source": [
        "I=E/(R1+1j*Xl1-1j*Xc1)\n",
        "Vth=I*1j*Xc1*(-1)+1j*Xm*I\n",
        "print(f\"\"\"\n",
        "Vth= ({Vth:.2f})V = {abs(Vth):.2f} /{cm.phase(Vth):.2f}º V \n",
        "\"\"\")"
      ],
      "execution_count": null,
      "outputs": [
        {
          "output_type": "stream",
          "name": "stdout",
          "text": [
            "\n",
            "Vth= (3.66+7.31j)V = 8.18 /1.11º V \n",
            "\n"
          ]
        }
      ]
    },
    {
      "cell_type": "markdown",
      "metadata": {
        "id": "u86w_C-Vi58p"
      },
      "source": [
        "Cálculo de la impedancia de carga para máxima transferencia de energía:\n",
        "\n",
        "La impedancia que produce máxima transferencia de energía es la impedancia vista en los terminales a-b del circuito conjugada, es decir, igual parte real y parte imaginaria cambiada de signo."
      ]
    },
    {
      "cell_type": "code",
      "metadata": {
        "colab": {
          "base_uri": "https://localhost:8080/"
        },
        "id": "gADpAV3oeTl-",
        "outputId": "206bbce6-8eee-45b3-d72c-f906b28c1088"
      },
      "source": [
        "Zc=np.conjugate(Zth)\n",
        "print(f\"Zc=({Zc:.2f}) Ohm\")"
      ],
      "execution_count": null,
      "outputs": [
        {
          "output_type": "stream",
          "name": "stdout",
          "text": [
            "Zc=(1.34-6.33j) Ohm\n"
          ]
        }
      ]
    }
  ]
}